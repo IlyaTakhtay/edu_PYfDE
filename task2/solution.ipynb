{
 "cells": [
  {
   "cell_type": "markdown",
   "metadata": {},
   "source": [
    "# Quest 1"
   ]
  },
  {
   "cell_type": "markdown",
   "metadata": {},
   "source": [
    "Печатные газеты использовали свой формат дат для каждого выпуска. Для каждой\n",
    "газеты из списка напишите формат указанной даты для перевода в объект datetime: <br/>\n",
    "The Moscow Times - Wednesday, October 2, 2002 <br/>\n",
    "The Guardian - Friday, 11.10.13 <br/>\n",
    "Daily News - Thursday, 18 August 1977 <br/>"
   ]
  },
  {
   "cell_type": "code",
   "execution_count": 2,
   "metadata": {},
   "outputs": [],
   "source": [
    "from datetime import datetime"
   ]
  },
  {
   "cell_type": "code",
   "execution_count": 14,
   "metadata": {},
   "outputs": [],
   "source": [
    "the_moscow_times = 'Wednesday, October 2, 2002'\n",
    "the_guardian = 'Friday, 11.10.13'\n",
    "daily_news = 'Thursday, 18 August 1977'"
   ]
  },
  {
   "cell_type": "code",
   "execution_count": 22,
   "metadata": {},
   "outputs": [],
   "source": [
    "first = datetime.strptime(the_moscow_times,'%A, %B %d, %Y')\n",
    "second = datetime.strptime(the_guardian,'%A, %d.%m.%y')\n",
    "third = datetime.strptime(daily_news, '%A, %d %B %Y')"
   ]
  },
  {
   "cell_type": "code",
   "execution_count": 23,
   "metadata": {},
   "outputs": [
    {
     "name": "stdout",
     "output_type": "stream",
     "text": [
      "<class 'datetime.datetime'> <class 'datetime.datetime'> <class 'datetime.datetime'>\n",
      "2002-10-02 00:00:00 2013-10-11 00:00:00 1977-08-18 00:00:00\n"
     ]
    }
   ],
   "source": [
    "print(type(first),type(second),type(third))\n",
    "print(first,second,third)"
   ]
  },
  {
   "cell_type": "markdown",
   "metadata": {},
   "source": [
    "# Quest 2"
   ]
  },
  {
   "cell_type": "markdown",
   "metadata": {},
   "source": [
    "Напишите функцию date_range, которая возвращает список дат за период от start_date\n",
    "до end_date. <br> Даты должны вводиться в формате YYYY-MM-DD. В случае неверного\n",
    "формата или при start_date > end_date должен возвращаться пустой список"
   ]
  },
  {
   "cell_type": "code",
   "execution_count": 45,
   "metadata": {},
   "outputs": [],
   "source": [
    "from datetime import datetime,timedelta"
   ]
  },
  {
   "cell_type": "code",
   "execution_count": 95,
   "metadata": {},
   "outputs": [],
   "source": [
    "test_array = ['2022-02-01', '2022-02-03', '2022-02-04', '2022-01-01','2022-01-09']"
   ]
  },
  {
   "cell_type": "code",
   "execution_count": 96,
   "metadata": {},
   "outputs": [],
   "source": [
    "def date_range(start_date, end_date):\n",
    "    result = []\n",
    "    try: \n",
    "        start_date = datetime.strptime(start_date, '%Y-%m-%d')\n",
    "        end_date = datetime.strptime(end_date, '%Y-%m-%d')\n",
    "        diff = (end_date - start_date).days\n",
    "        if (diff) > 1:\n",
    "            for i in range(diff+1):\n",
    "                result.append(start_date.strftime('%Y-%m-%d'))\n",
    "                start_date +=timedelta(days=1)\n",
    "    except Exception as e:\n",
    "        result = [] \n",
    "        print(e) \n",
    "    return result"
   ]
  },
  {
   "cell_type": "code",
   "execution_count": 97,
   "metadata": {},
   "outputs": [
    {
     "name": "stdout",
     "output_type": "stream",
     "text": [
      "['2022-02-01', '2022-02-02', '2022-02-03']\n",
      "[]\n",
      "[]\n",
      "['2022-01-01', '2022-01-02', '2022-01-03', '2022-01-04', '2022-01-05', '2022-01-06', '2022-01-07', '2022-01-08', '2022-01-09']\n"
     ]
    }
   ],
   "source": [
    "for i in range(len(test_array)-1):\n",
    "    print(date_range(test_array[i], test_array[i+1]))"
   ]
  },
  {
   "cell_type": "code",
   "execution_count": null,
   "metadata": {},
   "outputs": [],
   "source": []
  }
 ],
 "metadata": {
  "kernelspec": {
   "display_name": "Python 3",
   "language": "python",
   "name": "python3"
  },
  "language_info": {
   "codemirror_mode": {
    "name": "ipython",
    "version": 3
   },
   "file_extension": ".py",
   "mimetype": "text/x-python",
   "name": "python",
   "nbconvert_exporter": "python",
   "pygments_lexer": "ipython3",
   "version": "3.12.6"
  }
 },
 "nbformat": 4,
 "nbformat_minor": 2
}
