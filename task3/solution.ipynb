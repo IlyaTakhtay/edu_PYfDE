{
 "cells": [
  {
   "cell_type": "code",
   "execution_count": 61,
   "metadata": {},
   "outputs": [],
   "source": [
    "from datetime import datetime"
   ]
  },
  {
   "cell_type": "code",
   "execution_count": 98,
   "metadata": {},
   "outputs": [],
   "source": [
    "class Account:\n",
    "    def __init__(self, name: str, balance: int = 0):\n",
    "        self._name = name\n",
    "        self._balance = balance\n",
    "        self._history_balance = {'deposit':[],'withdraw':[]}\n",
    "    def deposit(self, value: int):\n",
    "        if value > 0:\n",
    "            self._balance += value\n",
    "            self._history_balance['deposit'].append(\n",
    "                {'time':datetime.now(), \n",
    "                 'value':value, \n",
    "                 'balance_after':self._balance\n",
    "            }) \n",
    "        else:\n",
    "            print(\"smth went wrong\")\n",
    "        print(f\"Current Balance: {self._balance}\")\n",
    "    def withdraw(self, value: int):\n",
    "        if (value > 0) and (value < self._balance):\n",
    "            self._balance -= value\n",
    "            self._history_balance['withdraw'].append(\n",
    "                {'time':datetime.now(), \n",
    "                 'value':value, \n",
    "                 'balance_after':self._balance\n",
    "            })\n",
    "        else:\n",
    "            print(\"smth went wrong\")\n",
    "        print(f\"Current Balance: {self._balance}\")\n",
    "\n",
    "    def _format_datetime(self, dt: datetime) -> str:\n",
    "        return dt.strftime(\"%Y-%m-%d %H:%M:%S\")       \n",
    "    \n",
    "    def show_history(self):\n",
    "        for transaction_type, transactions in self._history_balance.items():\n",
    "            print(f\"{transaction_type.capitalize()} balance history :\")\n",
    "            for transaction in transactions:\n",
    "                print(f\"Time: {self._format_datetime(transaction['time'])} ; Value: {transaction['value']} ; Balance after transaction {transaction['balance_after']};\")\n",
    " "
   ]
  },
  {
   "cell_type": "code",
   "execution_count": 99,
   "metadata": {},
   "outputs": [
    {
     "name": "stdout",
     "output_type": "stream",
     "text": [
      "10\n"
     ]
    }
   ],
   "source": [
    "sam_account = Account(name='Sam',balance=10)\n",
    "print(sam_account._balance)"
   ]
  },
  {
   "cell_type": "code",
   "execution_count": 102,
   "metadata": {},
   "outputs": [
    {
     "name": "stdout",
     "output_type": "stream",
     "text": [
      "Current Balance: 18\n",
      "Current Balance: 28\n",
      "Current Balance: 40\n",
      "Current Balance: 54\n",
      "Current Balance: 32\n",
      "Deposit balance history :\n",
      "Time: 2024-09-27 16:18:32 ; Value: 10 ; Balance after transaction 20;\n",
      "Time: 2024-09-27 16:18:32 ; Value: 12 ; Balance after transaction 32;\n",
      "Time: 2024-09-27 16:18:32 ; Value: 14 ; Balance after transaction 46;\n",
      "Time: 2024-09-27 16:18:36 ; Value: 10 ; Balance after transaction 24;\n",
      "Time: 2024-09-27 16:18:36 ; Value: 12 ; Balance after transaction 36;\n",
      "Time: 2024-09-27 16:18:36 ; Value: 14 ; Balance after transaction 50;\n",
      "Time: 2024-09-27 16:18:41 ; Value: 10 ; Balance after transaction 28;\n",
      "Time: 2024-09-27 16:18:41 ; Value: 12 ; Balance after transaction 40;\n",
      "Time: 2024-09-27 16:18:41 ; Value: 14 ; Balance after transaction 54;\n",
      "Withdraw balance history :\n",
      "Time: 2024-09-27 16:18:32 ; Value: 22 ; Balance after transaction 24;\n",
      "Time: 2024-09-27 16:18:36 ; Value: 10 ; Balance after transaction 14;\n",
      "Time: 2024-09-27 16:18:36 ; Value: 22 ; Balance after transaction 28;\n",
      "Time: 2024-09-27 16:18:41 ; Value: 10 ; Balance after transaction 18;\n",
      "Time: 2024-09-27 16:18:41 ; Value: 22 ; Balance after transaction 32;\n"
     ]
    }
   ],
   "source": [
    "sam_account.withdraw(10)\n",
    "sam_account.deposit(10)\n",
    "sam_account.deposit(12)\n",
    "sam_account.deposit(14)\n",
    "sam_account.withdraw(22)\n",
    "sam_account.show_history()\n",
    "\n",
    "\n"
   ]
  },
  {
   "cell_type": "code",
   "execution_count": null,
   "metadata": {},
   "outputs": [],
   "source": []
  }
 ],
 "metadata": {
  "kernelspec": {
   "display_name": "Python 3",
   "language": "python",
   "name": "python3"
  },
  "language_info": {
   "codemirror_mode": {
    "name": "ipython",
    "version": 3
   },
   "file_extension": ".py",
   "mimetype": "text/x-python",
   "name": "python",
   "nbconvert_exporter": "python",
   "pygments_lexer": "ipython3",
   "version": "3.12.6"
  }
 },
 "nbformat": 4,
 "nbformat_minor": 2
}
